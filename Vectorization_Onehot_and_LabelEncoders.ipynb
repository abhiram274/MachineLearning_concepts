{
  "nbformat": 4,
  "nbformat_minor": 0,
  "metadata": {
    "colab": {
      "provenance": [],
      "authorship_tag": "ABX9TyP6qr2JuMrQh3f68FXGbj6z",
      "include_colab_link": true
    },
    "kernelspec": {
      "name": "python3",
      "display_name": "Python 3"
    },
    "language_info": {
      "name": "python"
    }
  },
  "cells": [
    {
      "cell_type": "markdown",
      "metadata": {
        "id": "view-in-github",
        "colab_type": "text"
      },
      "source": [
        "<a href=\"https://colab.research.google.com/github/abhiram274/MachineLearning_concepts/blob/main/Vectorization_Onehot_and_LabelEncoders.ipynb\" target=\"_parent\"><img src=\"https://colab.research.google.com/assets/colab-badge.svg\" alt=\"Open In Colab\"/></a>"
      ]
    },
    {
      "cell_type": "code",
      "execution_count": 1,
      "metadata": {
        "id": "h3970qQkrAyK"
      },
      "outputs": [],
      "source": [
        "from sklearn.preprocessing import LabelEncoder, OneHotEncoder\n",
        "import numpy as np"
      ]
    },
    {
      "cell_type": "code",
      "source": [
        "user_input = input(\"Enter categories separated by comma (e.g., Red,Blue,Green,Red): \")\n",
        "categories = [x.strip() for x in user_input.split(',')]"
      ],
      "metadata": {
        "colab": {
          "base_uri": "https://localhost:8080/"
        },
        "id": "dnwGPAO0tYS3",
        "outputId": "c50e6b28-d3c4-43fc-aff3-506403adebd9"
      },
      "execution_count": 3,
      "outputs": [
        {
          "name": "stdout",
          "output_type": "stream",
          "text": [
            "Enter categories separated by comma (e.g., Red,Blue,Green,Red): red, green, blue,yellow,pink,brown,green,yellow\n"
          ]
        }
      ]
    },
    {
      "cell_type": "code",
      "source": [
        "print(\"\\nOriginal Categories:\", categories)"
      ],
      "metadata": {
        "colab": {
          "base_uri": "https://localhost:8080/"
        },
        "id": "LMbZ2L4dtluW",
        "outputId": "e86eb44b-a986-45dd-9ccd-189027ee1f70"
      },
      "execution_count": 4,
      "outputs": [
        {
          "output_type": "stream",
          "name": "stdout",
          "text": [
            "\n",
            "Original Categories: ['red', 'green', 'blue', 'yellow', 'pink', 'brown', 'green', 'yellow']\n"
          ]
        }
      ]
    },
    {
      "cell_type": "code",
      "source": [
        "# -------------------------------\n",
        "# 2. Label Encoding\n",
        "# -------------------------------\n",
        "le = LabelEncoder()\n",
        "label_encoded = le.fit_transform(categories)\n",
        "\n",
        "print(\"\\n=== Label Encoded Data ===\")\n",
        "print(\"Classes:\", le.classes_)\n",
        "print(\"Label Encoded:\", label_encoded)"
      ],
      "metadata": {
        "colab": {
          "base_uri": "https://localhost:8080/"
        },
        "id": "M26iBX_IuFJB",
        "outputId": "023de536-228f-44c0-86c4-aff355890c03"
      },
      "execution_count": 16,
      "outputs": [
        {
          "output_type": "stream",
          "name": "stdout",
          "text": [
            "\n",
            "=== Label Encoded Data ===\n",
            "Classes: ['blue' 'brown' 'green' 'pink' 'red' 'yellow']\n",
            "Label Encoded: [4 2 0 5 3 1 2 5]\n"
          ]
        }
      ]
    },
    {
      "cell_type": "code",
      "source": [
        "categories_array = np.array(categories).reshape(-1, 1)\n",
        "\n",
        "ohe = OneHotEncoder(sparse_output=False)  # use sparse_output instead of sparse\n",
        "one_hot_encoded = ohe.fit_transform(categories_array)\n",
        "\n",
        "print(\"\\n=== One-Hot Encoded Data ===\")\n",
        "print(\"Categories:\", categories)\n",
        "print(one_hot_encoded)"
      ],
      "metadata": {
        "colab": {
          "base_uri": "https://localhost:8080/"
        },
        "id": "O1s7YWQKtxHd",
        "outputId": "d196d282-9c8f-40bf-870c-ec92948ced54"
      },
      "execution_count": 19,
      "outputs": [
        {
          "output_type": "stream",
          "name": "stdout",
          "text": [
            "\n",
            "=== One-Hot Encoded Data ===\n",
            "Categories: ['red', 'green', 'blue', 'yellow', 'pink', 'brown', 'green', 'yellow']\n",
            "[[0. 0. 0. 0. 1. 0.]\n",
            " [0. 0. 1. 0. 0. 0.]\n",
            " [1. 0. 0. 0. 0. 0.]\n",
            " [0. 0. 0. 0. 0. 1.]\n",
            " [0. 0. 0. 1. 0. 0.]\n",
            " [0. 1. 0. 0. 0. 0.]\n",
            " [0. 0. 1. 0. 0. 0.]\n",
            " [0. 0. 0. 0. 0. 1.]]\n"
          ]
        }
      ]
    },
    {
      "cell_type": "code",
      "source": [],
      "metadata": {
        "id": "v7TMrAubt7Pj"
      },
      "execution_count": null,
      "outputs": []
    }
  ]
}