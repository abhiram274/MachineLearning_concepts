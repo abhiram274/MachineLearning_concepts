{
  "nbformat": 4,
  "nbformat_minor": 0,
  "metadata": {
    "colab": {
      "provenance": [],
      "authorship_tag": "ABX9TyNUGrS0XINW+SkYvJOkjyCx",
      "include_colab_link": true
    },
    "kernelspec": {
      "name": "python3",
      "display_name": "Python 3"
    },
    "language_info": {
      "name": "python"
    }
  },
  "cells": [
    {
      "cell_type": "markdown",
      "metadata": {
        "id": "view-in-github",
        "colab_type": "text"
      },
      "source": [
        "<a href=\"https://colab.research.google.com/github/abhiram274/MachineLearning_concepts/blob/main/Find_Statistics_of_Dataset.ipynb\" target=\"_parent\"><img src=\"https://colab.research.google.com/assets/colab-badge.svg\" alt=\"Open In Colab\"/></a>"
      ]
    },
    {
      "cell_type": "code",
      "execution_count": 1,
      "metadata": {
        "id": "ehQVNi9tHh3Z"
      },
      "outputs": [],
      "source": [
        "import numpy as np\n",
        "import statistics as st"
      ]
    },
    {
      "cell_type": "code",
      "source": [
        "#Dynamic Data\n",
        "data = []\n",
        "for i in range(1,10):\n",
        "  inp = int(input(f\"Enter element {i}:\"))\n",
        "  data.append(inp)\n",
        "data.sort()\n",
        "print(data)"
      ],
      "metadata": {
        "colab": {
          "base_uri": "https://localhost:8080/"
        },
        "id": "1A5SxfbkJDuh",
        "outputId": "071425fc-9d66-409f-b3a3-64e7e7063218"
      },
      "execution_count": 3,
      "outputs": [
        {
          "output_type": "stream",
          "name": "stdout",
          "text": [
            "Enter element 1:5\n",
            "Enter element 2:3\n",
            "Enter element 3:6\n",
            "Enter element 4:2\n",
            "Enter element 5:1\n",
            "Enter element 6:9\n",
            "Enter element 7:3\n",
            "Enter element 8:10\n",
            "Enter element 9:55\n",
            "[1, 2, 3, 3, 5, 6, 9, 10, 55]\n"
          ]
        }
      ]
    },
    {
      "cell_type": "code",
      "source": [
        "# Mean\n",
        "mean = st.mean(data)\n",
        "print(\"Mean:\", mean)\n",
        "\n",
        "# Mode\n",
        "mode = st.mode(data)\n",
        "print(\"Mode:\", mode)\n",
        "\n",
        "# Median\n",
        "median = st.median(data)\n",
        "print(\"Median:\", median)\n",
        "\n",
        "# Variance\n",
        "variance = st.variance(data)\n",
        "print(\"Variance:\", variance)\n",
        "\n",
        "# Standard Deviation\n",
        "sd = st.stdev(data)\n",
        "print(\"Standard Deviation:\", sd)\n",
        "\n",
        "# Quartiles\n",
        "quartiles = np.percentile(data, [25, 50, 75])\n",
        "q1, q2, q3 = quartiles\n",
        "print(\"Quartiles:\")\n",
        "print(\"Q1:\", q1)\n",
        "print(\"Q2 (Median):\", q2)\n",
        "print(\"Q3:\", q3)\n",
        "\n",
        "# IQR\n",
        "iqr = q3 - q1\n",
        "print(\"Interquartile Range (IQR):\", iqr)"
      ],
      "metadata": {
        "colab": {
          "base_uri": "https://localhost:8080/"
        },
        "id": "N7HVswZ2JXuz",
        "outputId": "39981765-489b-4d93-ef57-21708344d2c0"
      },
      "execution_count": 4,
      "outputs": [
        {
          "output_type": "stream",
          "name": "stdout",
          "text": [
            "Mean: 10.444444444444445\n",
            "Mode: 3\n",
            "Median: 5\n",
            "Variance: 288.52777777777777\n",
            "Standard Deviation: 16.986105432905383\n",
            "Quartiles:\n",
            "Q1: 3.0\n",
            "Q2 (Median): 5.0\n",
            "Q3: 9.0\n",
            "Interquartile Range (IQR): 6.0\n"
          ]
        }
      ]
    },
    {
      "cell_type": "code",
      "source": [],
      "metadata": {
        "id": "m_pU28XaKiEp"
      },
      "execution_count": null,
      "outputs": []
    }
  ]
}