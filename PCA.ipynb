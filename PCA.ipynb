{
  "nbformat": 4,
  "nbformat_minor": 0,
  "metadata": {
    "colab": {
      "provenance": [],
      "authorship_tag": "ABX9TyPB+lv4TUrzn8euDnt/yaT8",
      "include_colab_link": true
    },
    "kernelspec": {
      "name": "python3",
      "display_name": "Python 3"
    },
    "language_info": {
      "name": "python"
    }
  },
  "cells": [
    {
      "cell_type": "markdown",
      "metadata": {
        "id": "view-in-github",
        "colab_type": "text"
      },
      "source": [
        "<a href=\"https://colab.research.google.com/github/abhiram274/MachineLearning_concepts/blob/main/PCA.ipynb\" target=\"_parent\"><img src=\"https://colab.research.google.com/assets/colab-badge.svg\" alt=\"Open In Colab\"/></a>"
      ]
    },
    {
      "cell_type": "code",
      "execution_count": 1,
      "metadata": {
        "id": "XLWhcmkQazK6"
      },
      "outputs": [],
      "source": [
        "import numpy as np\n",
        "import pandas as pd\n",
        "from sklearn.preprocessing import StandardScaler\n",
        "from sklearn.decomposition import PCA"
      ]
    },
    {
      "cell_type": "code",
      "source": [
        "\n",
        "# Step 0: Create Sample Data\n",
        "\n",
        "data = pd.DataFrame({\n",
        "    'Feature1':[2.5, 0.5, 2.2, 1.9, 3.1, 2.3, 2, 1, 1.5, 1.1],\n",
        "    'Feature2':[2.4, 0.7, 2.9, 2.2, 3, 2.7, 1.6, 1.1, 1.6, 0.9]\n",
        "})\n",
        "print(\"Original Data:\\n\", data)"
      ],
      "metadata": {
        "colab": {
          "base_uri": "https://localhost:8080/"
        },
        "id": "s3e7elSzdBum",
        "outputId": "da518238-36e3-4643-9733-3a08c0b04b30"
      },
      "execution_count": 5,
      "outputs": [
        {
          "output_type": "stream",
          "name": "stdout",
          "text": [
            "Original Data:\n",
            "    Feature1  Feature2\n",
            "0       2.5       2.4\n",
            "1       0.5       0.7\n",
            "2       2.2       2.9\n",
            "3       1.9       2.2\n",
            "4       3.1       3.0\n",
            "5       2.3       2.7\n",
            "6       2.0       1.6\n",
            "7       1.0       1.1\n",
            "8       1.5       1.6\n",
            "9       1.1       0.9\n"
          ]
        }
      ]
    },
    {
      "cell_type": "code",
      "source": [
        "# Step 1: Standardize first\n",
        "scaler = StandardScaler()\n",
        "scaled_data = scaler.fit_transform(data)\n",
        "print(\"\\nStep 1 - Scaled Data:\\n\", scaled_data)\n",
        "\n",
        "# Step 2: Covariance matrix\n",
        "cov_matrix = np.cov(scaled_data.T)\n",
        "print(\"\\nStep 2 - Covariance Matrix:\\n\", cov_matrix)\n",
        "\n",
        "\n",
        "# Step 3: Eigenvectors and Eigenvalues\n",
        "eigenvalues, eigenvectors = np.linalg.eig(cov_matrix)\n",
        "print(\"\\nStep 3 - Eigenvalues:\\n\", eigenvalues)\n",
        "print(\"\\nStep 3 - Eigenvectors:\\n\", eigenvectors)\n",
        "\n",
        "# Step 4: Select top k components\n",
        "pca = PCA(n_components=1)  # Selecting 1 principal component\n",
        "print(\"\\nStep 4 - PCA object created with 1 component:\\n\", pca)\n",
        "\n",
        "# Step 5: Transform the data\n",
        "principal_components = pca.fit_transform(scaled_data)  # Fit and transform the scaled data\n",
        "pca_df = pd.DataFrame(data = principal_components, columns = ['PC1'])\n",
        "print(\"\\nStep 5 - Transformed Data (Lower Dimension):\\n\", pca_df)\n",
        "\n",
        "# Step 6: Check Explained Variance\n",
        "print(\"\\nStep 6 - Explained Variance Ratio:\", pca.explained_variance_ratio_)"
      ],
      "metadata": {
        "colab": {
          "base_uri": "https://localhost:8080/"
        },
        "id": "FLNx-9m4dLBg",
        "outputId": "8d662a2c-b329-49cd-aa8a-6aca0ed9e5d4"
      },
      "execution_count": 6,
      "outputs": [
        {
          "output_type": "stream",
          "name": "stdout",
          "text": [
            "\n",
            "Step 1 - Scaled Data:\n",
            " [[ 0.92627881  0.61016865]\n",
            " [-1.7585873  -1.506743  ]\n",
            " [ 0.52354889  1.23278973]\n",
            " [ 0.12081898  0.36112022]\n",
            " [ 1.73173864  1.35731394]\n",
            " [ 0.6577922   0.9837413 ]\n",
            " [ 0.25506228 -0.38602507]\n",
            " [-1.08737078 -1.00864614]\n",
            " [-0.41615425 -0.38602507]\n",
            " [-0.95312747 -1.25769457]]\n",
            "\n",
            "Step 2 - Covariance Matrix:\n",
            " [[1.11111111 1.0288103 ]\n",
            " [1.0288103  1.11111111]]\n",
            "\n",
            "Step 3 - Eigenvalues:\n",
            " [2.13992141 0.08230081]\n",
            "\n",
            "Step 3 - Eigenvectors:\n",
            " [[ 0.70710678 -0.70710678]\n",
            " [ 0.70710678  0.70710678]]\n",
            "\n",
            "Step 4 - PCA object created with 1 component:\n",
            " PCA(n_components=1)\n",
            "\n",
            "Step 5 - Transformed Data (Lower Dimension):\n",
            "         PC1\n",
            "0  1.086432\n",
            "1 -2.308937\n",
            "2  1.241919\n",
            "3  0.340782\n",
            "4  2.184290\n",
            "5  1.160739\n",
            "6 -0.092605\n",
            "7 -1.482108\n",
            "8 -0.567226\n",
            "9 -1.563287\n",
            "\n",
            "Step 6 - Explained Variance Ratio: [0.96296464]\n"
          ]
        }
      ]
    },
    {
      "cell_type": "code",
      "source": [],
      "metadata": {
        "id": "bZGnmdNke1pG"
      },
      "execution_count": null,
      "outputs": []
    }
  ]
}